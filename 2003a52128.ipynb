{
  "nbformat": 4,
  "nbformat_minor": 0,
  "metadata": {
    "colab": {
      "name": "Welcome to Colaboratory",
      "provenance": [],
      "collapsed_sections": []
    },
    "kernelspec": {
      "display_name": "Python 3",
      "name": "python3"
    }
  },
  "cells": [
    {
      "cell_type": "markdown",
      "metadata": {
        "id": "5fCEDCU_qrC0"
      },
      "source": [
        "<p><img alt=\"Colaboratory logo\" height=\"45px\" src=\"/img/colab_favicon.ico\" align=\"left\" hspace=\"10px\" vspace=\"0px\"></p>\n",
        "\n",
        "<h1>What is Colaboratory?</h1>\n",
        "\n",
        "Colaboratory, or 'Colab' for short, allows you to write and execute Python in your browser, with \n",
        "- Zero configuration required\n",
        "- Free access to GPUs\n",
        "- Easy sharing\n",
        "\n",
        "Whether you're a <strong>student</strong>, a <strong>data scientist</strong> or an <strong>AI researcher</strong>, Colab can make your work easier. Watch <a href=\"https://www.youtube.com/watch?v=inN8seMm7UI\">Introduction to Colab</a> to find out more, or just get started below!"
      ]
    },
    {
      "cell_type": "code",
      "metadata": {
        "colab": {
          "base_uri": "https://localhost:8080/"
        },
        "id": "XO5qxAEg0fqq",
        "outputId": "740e6bb6-3880-4d43-cc33-84aab11b62ee"
      },
      "source": [
        "x1=d['Adult Mortality']\n",
        "y=d['Life expectancy ']\n",
        "print(x1,y)"
      ],
      "execution_count": 7,
      "outputs": [
        {
          "output_type": "stream",
          "name": "stdout",
          "text": [
            "0       263.0\n",
            "1       271.0\n",
            "2       268.0\n",
            "3       272.0\n",
            "4       275.0\n",
            "        ...  \n",
            "2933    723.0\n",
            "2934    715.0\n",
            "2935     73.0\n",
            "2936    686.0\n",
            "2937    665.0\n",
            "Name: Adult Mortality, Length: 2938, dtype: float64 0       65.0\n",
            "1       59.9\n",
            "2       59.9\n",
            "3       59.5\n",
            "4       59.2\n",
            "        ... \n",
            "2933    44.3\n",
            "2934    44.5\n",
            "2935    44.8\n",
            "2936    45.3\n",
            "2937    46.0\n",
            "Name: Life expectancy , Length: 2938, dtype: float64\n"
          ]
        }
      ]
    },
    {
      "cell_type": "code",
      "metadata": {
        "colab": {
          "base_uri": "https://localhost:8080/",
          "height": 283
        },
        "id": "4tov7Q2g4G6K",
        "outputId": "f0c78376-9a00-408e-c442-5e1d695a24cb"
      },
      "source": [
        "from matplotlib import pyplot as plt\n",
        "plt.plot(x1,y,'g')"
      ],
      "execution_count": 10,
      "outputs": [
        {
          "output_type": "execute_result",
          "data": {
            "text/plain": [
              "[<matplotlib.lines.Line2D at 0x7fb7fe84dc90>]"
            ]
          },
          "metadata": {},
          "execution_count": 10
        },
        {
          "output_type": "display_data",
          "data": {
            "image/png": "[encoded data removed]",
            "text/plain": [
              "<Figure size 432x288 with 1 Axes>"
            ]
          },
          "metadata": {
            "needs_background": "light"
          }
        }
      ]
    },
    {
      "cell_type": "code",
      "metadata": {
        "colab": {
          "base_uri": "https://localhost:8080/"
        },
        "id": "RI-wnoaV6Qqs",
        "outputId": "212c71c1-077d-4639-cd0b-ef00508f7d00"
      },
      "source": [
        "x2=d['infant deaths']\n",
        "y=d['Life expectancy ']\n",
        "print(x2,y)"
      ],
      "execution_count": 14,
      "outputs": [
        {
          "output_type": "stream",
          "name": "stdout",
          "text": [
            "0       62\n",
            "1       64\n",
            "2       66\n",
            "3       69\n",
            "4       71\n",
            "        ..\n",
            "2933    27\n",
            "2934    26\n",
            "2935    25\n",
            "2936    25\n",
            "2937    24\n",
            "Name: infant deaths, Length: 2938, dtype: int64 0       65.0\n",
            "1       59.9\n",
            "2       59.9\n",
            "3       59.5\n",
            "4       59.2\n",
            "        ... \n",
            "2933    44.3\n",
            "2934    44.5\n",
            "2935    44.8\n",
            "2936    45.3\n",
            "2937    46.0\n",
            "Name: Life expectancy , Length: 2938, dtype: float64\n"
          ]
        }
      ]
    },
    {
      "cell_type": "code",
      "metadata": {
        "colab": {
          "base_uri": "https://localhost:8080/"
        },
        "id": "W3UgR7gQ7Q-y",
        "outputId": "0eecf9a8-0581-4475-d7a8-d677d953b1d7"
      },
      "source": [
        "x3=d['Alcohol']\n",
        "y=d['Life expectancy ']\n",
        "print(x3,y)"
      ],
      "execution_count": 15,
      "outputs": [
        {
          "output_type": "stream",
          "name": "stdout",
          "text": [
            "0       0.01\n",
            "1       0.01\n",
            "2       0.01\n",
            "3       0.01\n",
            "4       0.01\n",
            "        ... \n",
            "2933    4.36\n",
            "2934    4.06\n",
            "2935    4.43\n",
            "2936    1.72\n",
            "2937    1.68\n",
            "Name: Alcohol, Length: 2938, dtype: float64 0       65.0\n",
            "1       59.9\n",
            "2       59.9\n",
            "3       59.5\n",
            "4       59.2\n",
            "        ... \n",
            "2933    44.3\n",
            "2934    44.5\n",
            "2935    44.8\n",
            "2936    45.3\n",
            "2937    46.0\n",
            "Name: Life expectancy , Length: 2938, dtype: float64\n"
          ]
        }
      ]
    },
    {
      "cell_type": "code",
      "metadata": {
        "colab": {
          "base_uri": "https://localhost:8080/"
        },
        "id": "p2bP33M071cH",
        "outputId": "0baf36d5-3246-4220-8112-bde52f40e620"
      },
      "source": [
        "x4=d['percentage expenditure']\n",
        "y=d['Life expectancy ']\n",
        "print(x4,y)"
      ],
      "execution_count": 16,
      "outputs": [
        {
          "output_type": "stream",
          "name": "stdout",
          "text": [
            "0       71.279624\n",
            "1       73.523582\n",
            "2       73.219243\n",
            "3       78.184215\n",
            "4        7.097109\n",
            "          ...    \n",
            "2933     0.000000\n",
            "2934     0.000000\n",
            "2935     0.000000\n",
            "2936     0.000000\n",
            "2937     0.000000\n",
            "Name: percentage expenditure, Length: 2938, dtype: float64 0       65.0\n",
            "1       59.9\n",
            "2       59.9\n",
            "3       59.5\n",
            "4       59.2\n",
            "        ... \n",
            "2933    44.3\n",
            "2934    44.5\n",
            "2935    44.8\n",
            "2936    45.3\n",
            "2937    46.0\n",
            "Name: Life expectancy , Length: 2938, dtype: float64\n"
          ]
        }
      ]
    },
    {
      "cell_type": "code",
      "metadata": {
        "colab": {
          "base_uri": "https://localhost:8080/"
        },
        "id": "LAHfwpjb8Sne",
        "outputId": "d5d33fab-d5d3-4496-f700-6f38b2e7ed7e"
      },
      "source": [
        "x5=d['Hepatitis B']\n",
        "y=d['Life expectancy ']\n",
        "print(x5,y)"
      ],
      "execution_count": 18,
      "outputs": [
        {
          "output_type": "stream",
          "name": "stdout",
          "text": [
            "0       65.0\n",
            "1       62.0\n",
            "2       64.0\n",
            "3       67.0\n",
            "4       68.0\n",
            "        ... \n",
            "2933    68.0\n",
            "2934     7.0\n",
            "2935    73.0\n",
            "2936    76.0\n",
            "2937    79.0\n",
            "Name: Hepatitis B, Length: 2938, dtype: float64 0       65.0\n",
            "1       59.9\n",
            "2       59.9\n",
            "3       59.5\n",
            "4       59.2\n",
            "        ... \n",
            "2933    44.3\n",
            "2934    44.5\n",
            "2935    44.8\n",
            "2936    45.3\n",
            "2937    46.0\n",
            "Name: Life expectancy , Length: 2938, dtype: float64\n"
          ]
        }
      ]
    },
    {
      "cell_type": "code",
      "metadata": {
        "colab": {
          "base_uri": "https://localhost:8080/"
        },
        "id": "qAKabT8J8w9_",
        "outputId": "9ec87a75-8289-48e3-8f15-535d649e9dab"
      },
      "source": [
        "x6=d['Measles ']\n",
        "y=d['Life expectancy ']\n",
        "print(x6,y)"
      ],
      "execution_count": 20,
      "outputs": [
        {
          "output_type": "stream",
          "name": "stdout",
          "text": [
            "0       1154\n",
            "1        492\n",
            "2        430\n",
            "3       2787\n",
            "4       3013\n",
            "        ... \n",
            "2933      31\n",
            "2934     998\n",
            "2935     304\n",
            "2936     529\n",
            "2937    1483\n",
            "Name: Measles , Length: 2938, dtype: int64 0       65.0\n",
            "1       59.9\n",
            "2       59.9\n",
            "3       59.5\n",
            "4       59.2\n",
            "        ... \n",
            "2933    44.3\n",
            "2934    44.5\n",
            "2935    44.8\n",
            "2936    45.3\n",
            "2937    46.0\n",
            "Name: Life expectancy , Length: 2938, dtype: float64\n"
          ]
        }
      ]
    },
    {
      "cell_type": "code",
      "metadata": {
        "colab": {
          "base_uri": "https://localhost:8080/"
        },
        "id": "vADe-ARO9HyX",
        "outputId": "a5339aa1-8bb7-48dd-c575-6c3271190d83"
      },
      "source": [
        "x7=d[' BMI ']\n",
        "y=d['Life expectancy ']\n",
        "print(x7,y)"
      ],
      "execution_count": 22,
      "outputs": [
        {
          "output_type": "stream",
          "name": "stdout",
          "text": [
            "0       19.1\n",
            "1       18.6\n",
            "2       18.1\n",
            "3       17.6\n",
            "4       17.2\n",
            "        ... \n",
            "2933    27.1\n",
            "2934    26.7\n",
            "2935    26.3\n",
            "2936    25.9\n",
            "2937    25.5\n",
            "Name:  BMI , Length: 2938, dtype: float64 0       65.0\n",
            "1       59.9\n",
            "2       59.9\n",
            "3       59.5\n",
            "4       59.2\n",
            "        ... \n",
            "2933    44.3\n",
            "2934    44.5\n",
            "2935    44.8\n",
            "2936    45.3\n",
            "2937    46.0\n",
            "Name: Life expectancy , Length: 2938, dtype: float64\n"
          ]
        }
      ]
    },
    {
      "cell_type": "code",
      "metadata": {
        "colab": {
          "base_uri": "https://localhost:8080/"
        },
        "id": "q_jc0kdv9jV2",
        "outputId": "3d74bffe-f46e-47cb-cf75-ce4e8214da20"
      },
      "source": [
        "x8=d['under-five deaths ']\n",
        "y=d['Life expectancy ']\n",
        "print(x8,y)"
      ],
      "execution_count": 24,
      "outputs": [
        {
          "output_type": "stream",
          "name": "stdout",
          "text": [
            "0       83\n",
            "1       86\n",
            "2       89\n",
            "3       93\n",
            "4       97\n",
            "        ..\n",
            "2933    42\n",
            "2934    41\n",
            "2935    40\n",
            "2936    39\n",
            "2937    39\n",
            "Name: under-five deaths , Length: 2938, dtype: int64 0       65.0\n",
            "1       59.9\n",
            "2       59.9\n",
            "3       59.5\n",
            "4       59.2\n",
            "        ... \n",
            "2933    44.3\n",
            "2934    44.5\n",
            "2935    44.8\n",
            "2936    45.3\n",
            "2937    46.0\n",
            "Name: Life expectancy , Length: 2938, dtype: float64\n"
          ]
        }
      ]
    },
    {
      "cell_type": "code",
      "metadata": {
        "colab": {
          "base_uri": "https://localhost:8080/"
        },
        "id": "3S3WxXYl-ITm",
        "outputId": "02427498-b53b-41f9-a2aa-b168389052e6"
      },
      "source": [
        "x9=d['Polio']\n",
        "y=d['Life expectancy ']\n",
        "print(x9,y)"
      ],
      "execution_count": 25,
      "outputs": [
        {
          "output_type": "stream",
          "name": "stdout",
          "text": [
            "0        6.0\n",
            "1       58.0\n",
            "2       62.0\n",
            "3       67.0\n",
            "4       68.0\n",
            "        ... \n",
            "2933    67.0\n",
            "2934     7.0\n",
            "2935    73.0\n",
            "2936    76.0\n",
            "2937    78.0\n",
            "Name: Polio, Length: 2938, dtype: float64 0       65.0\n",
            "1       59.9\n",
            "2       59.9\n",
            "3       59.5\n",
            "4       59.2\n",
            "        ... \n",
            "2933    44.3\n",
            "2934    44.5\n",
            "2935    44.8\n",
            "2936    45.3\n",
            "2937    46.0\n",
            "Name: Life expectancy , Length: 2938, dtype: float64\n"
          ]
        }
      ]
    },
    {
      "cell_type": "code",
      "metadata": {
        "colab": {
          "base_uri": "https://localhost:8080/"
        },
        "id": "OWbyLMv6-kNo",
        "outputId": "c3b7fd46-5498-4d6e-dd12-56562fada422"
      },
      "source": [
        "x10=d['Total expenditure']\n",
        "y=d['Life expectancy ']\n",
        "print(x10,y)"
      ],
      "execution_count": 26,
      "outputs": [
        {
          "output_type": "stream",
          "name": "stdout",
          "text": [
            "0       8.16\n",
            "1       8.18\n",
            "2       8.13\n",
            "3       8.52\n",
            "4       7.87\n",
            "        ... \n",
            "2933    7.13\n",
            "2934    6.52\n",
            "2935    6.53\n",
            "2936    6.16\n",
            "2937    7.10\n",
            "Name: Total expenditure, Length: 2938, dtype: float64 0       65.0\n",
            "1       59.9\n",
            "2       59.9\n",
            "3       59.5\n",
            "4       59.2\n",
            "        ... \n",
            "2933    44.3\n",
            "2934    44.5\n",
            "2935    44.8\n",
            "2936    45.3\n",
            "2937    46.0\n",
            "Name: Life expectancy , Length: 2938, dtype: float64\n"
          ]
        }
      ]
    },
    {
      "cell_type": "code",
      "metadata": {
        "colab": {
          "base_uri": "https://localhost:8080/"
        },
        "id": "CfaxsCy3_Dru",
        "outputId": "37998907-7f56-4db9-ab77-4cd0e3693cc5"
      },
      "source": [
        "x11=d['Diphtheria ']\n",
        "y=d['Life expectancy ']\n",
        "print(x11,y)"
      ],
      "execution_count": 28,
      "outputs": [
        {
          "output_type": "stream",
          "name": "stdout",
          "text": [
            "0       65.0\n",
            "1       62.0\n",
            "2       64.0\n",
            "3       67.0\n",
            "4       68.0\n",
            "        ... \n",
            "2933    65.0\n",
            "2934    68.0\n",
            "2935    71.0\n",
            "2936    75.0\n",
            "2937    78.0\n",
            "Name: Diphtheria , Length: 2938, dtype: float64 0       65.0\n",
            "1       59.9\n",
            "2       59.9\n",
            "3       59.5\n",
            "4       59.2\n",
            "        ... \n",
            "2933    44.3\n",
            "2934    44.5\n",
            "2935    44.8\n",
            "2936    45.3\n",
            "2937    46.0\n",
            "Name: Life expectancy , Length: 2938, dtype: float64\n"
          ]
        }
      ]
    },
    {
      "cell_type": "code",
      "metadata": {
        "colab": {
          "base_uri": "https://localhost:8080/"
        },
        "id": "B-k_kKifAGff",
        "outputId": "8fa6303d-0424-4836-82f6-4b38f12f36fe"
      },
      "source": [
        "x12=d[' HIV/AIDS']\n",
        "y=d['Life expectancy ']\n",
        "print(x12,y)"
      ],
      "execution_count": 30,
      "outputs": [
        {
          "output_type": "stream",
          "name": "stdout",
          "text": [
            "0        0.1\n",
            "1        0.1\n",
            "2        0.1\n",
            "3        0.1\n",
            "4        0.1\n",
            "        ... \n",
            "2933    33.6\n",
            "2934    36.7\n",
            "2935    39.8\n",
            "2936    42.1\n",
            "2937    43.5\n",
            "Name:  HIV/AIDS, Length: 2938, dtype: float64 0       65.0\n",
            "1       59.9\n",
            "2       59.9\n",
            "3       59.5\n",
            "4       59.2\n",
            "        ... \n",
            "2933    44.3\n",
            "2934    44.5\n",
            "2935    44.8\n",
            "2936    45.3\n",
            "2937    46.0\n",
            "Name: Life expectancy , Length: 2938, dtype: float64\n"
          ]
        }
      ]
    },
    {
      "cell_type": "code",
      "metadata": {
        "colab": {
          "base_uri": "https://localhost:8080/"
        },
        "id": "R1yxCtyQAuk2",
        "outputId": "62a0c147-5281-4aec-d3d6-d67e7ce3788c"
      },
      "source": [
        "x13=d['GDP']\n",
        "y=d['Life expectancy ']\n",
        "print(x13,y)"
      ],
      "execution_count": 31,
      "outputs": [
        {
          "output_type": "stream",
          "name": "stdout",
          "text": [
            "0       584.259210\n",
            "1       612.696514\n",
            "2       631.744976\n",
            "3       669.959000\n",
            "4        63.537231\n",
            "           ...    \n",
            "2933    454.366654\n",
            "2934    453.351155\n",
            "2935     57.348340\n",
            "2936    548.587312\n",
            "2937    547.358879\n",
            "Name: GDP, Length: 2938, dtype: float64 0       65.0\n",
            "1       59.9\n",
            "2       59.9\n",
            "3       59.5\n",
            "4       59.2\n",
            "        ... \n",
            "2933    44.3\n",
            "2934    44.5\n",
            "2935    44.8\n",
            "2936    45.3\n",
            "2937    46.0\n",
            "Name: Life expectancy , Length: 2938, dtype: float64\n"
          ]
        }
      ]
    },
    {
      "cell_type": "code",
      "metadata": {
        "colab": {
          "base_uri": "https://localhost:8080/"
        },
        "id": "PPD2DPcjBVYT",
        "outputId": "cdb9058d-7ddd-4606-a25f-0d63c17c8a13"
      },
      "source": [
        "x14=d['Population']\n",
        "y=d['Life expectancy ']\n",
        "print(x14,y)"
      ],
      "execution_count": 32,
      "outputs": [
        {
          "output_type": "stream",
          "name": "stdout",
          "text": [
            "0       33736494.0\n",
            "1         327582.0\n",
            "2       31731688.0\n",
            "3        3696958.0\n",
            "4        2978599.0\n",
            "           ...    \n",
            "2933    12777511.0\n",
            "2934    12633897.0\n",
            "2935      125525.0\n",
            "2936    12366165.0\n",
            "2937    12222251.0\n",
            "Name: Population, Length: 2938, dtype: float64 0       65.0\n",
            "1       59.9\n",
            "2       59.9\n",
            "3       59.5\n",
            "4       59.2\n",
            "        ... \n",
            "2933    44.3\n",
            "2934    44.5\n",
            "2935    44.8\n",
            "2936    45.3\n",
            "2937    46.0\n",
            "Name: Life expectancy , Length: 2938, dtype: float64\n"
          ]
        }
      ]
    },
    {
      "cell_type": "code",
      "metadata": {
        "colab": {
          "base_uri": "https://localhost:8080/"
        },
        "id": "uKMDKkbLBwGx",
        "outputId": "301b9658-81ff-41f2-80bb-476f8bf25694"
      },
      "source": [
        "x15=d[' thinness  1-19 years']\n",
        "y=d['Life expectancy ']\n",
        "print(x15,y)"
      ],
      "execution_count": 36,
      "outputs": [
        {
          "output_type": "stream",
          "name": "stdout",
          "text": [
            "0       17.2\n",
            "1       17.5\n",
            "2       17.7\n",
            "3       17.9\n",
            "4       18.2\n",
            "        ... \n",
            "2933     9.4\n",
            "2934     9.8\n",
            "2935     1.2\n",
            "2936     1.6\n",
            "2937    11.0\n",
            "Name:  thinness  1-19 years, Length: 2938, dtype: float64 0       65.0\n",
            "1       59.9\n",
            "2       59.9\n",
            "3       59.5\n",
            "4       59.2\n",
            "        ... \n",
            "2933    44.3\n",
            "2934    44.5\n",
            "2935    44.8\n",
            "2936    45.3\n",
            "2937    46.0\n",
            "Name: Life expectancy , Length: 2938, dtype: float64\n"
          ]
        }
      ]
    },
    {
      "cell_type": "code",
      "metadata": {
        "colab": {
          "base_uri": "https://localhost:8080/"
        },
        "id": "bZoE-WDQCkTI",
        "outputId": "e0cbce12-bd21-40a9-a70a-7f3e6b7ebf81"
      },
      "source": [
        "x16=['thinness 5-9 years']\n",
        "y=d['Life expectancy ']\n",
        "print(x16,y)"
      ],
      "execution_count": 42,
      "outputs": [
        {
          "output_type": "stream",
          "name": "stdout",
          "text": [
            "['thinness 5-9 years'] 0       65.0\n",
            "1       59.9\n",
            "2       59.9\n",
            "3       59.5\n",
            "4       59.2\n",
            "        ... \n",
            "2933    44.3\n",
            "2934    44.5\n",
            "2935    44.8\n",
            "2936    45.3\n",
            "2937    46.0\n",
            "Name: Life expectancy , Length: 2938, dtype: float64\n"
          ]
        }
      ]
    },
    {
      "cell_type": "code",
      "metadata": {
        "colab": {
          "base_uri": "https://localhost:8080/"
        },
        "id": "e_OVXDvcDZKf",
        "outputId": "4dab719c-4cc8-4473-8e83-4629bd9af297"
      },
      "source": [
        "x17=d['Income composition of resources']\n",
        "y=d['Life expectancy ']\n",
        "print(x17,d)"
      ],
      "execution_count": 43,
      "outputs": [
        {
          "output_type": "stream",
          "name": "stdout",
          "text": [
            "0       0.479\n",
            "1       0.476\n",
            "2       0.470\n",
            "3       0.463\n",
            "4       0.454\n",
            "        ...  \n",
            "2933    0.407\n",
            "2934    0.418\n",
            "2935    0.427\n",
            "2936    0.427\n",
            "2937    0.434\n",
            "Name: Income composition of resources, Length: 2938, dtype: float64           Country  Year  ... Income composition of resources  Schooling\n",
            "0     Afghanistan  2015  ...                           0.479       10.1\n",
            "1     Afghanistan  2014  ...                           0.476       10.0\n",
            "2     Afghanistan  2013  ...                           0.470        9.9\n",
            "3     Afghanistan  2012  ...                           0.463        9.8\n",
            "4     Afghanistan  2011  ...                           0.454        9.5\n",
            "...           ...   ...  ...                             ...        ...\n",
            "2933     Zimbabwe  2004  ...                           0.407        9.2\n",
            "2934     Zimbabwe  2003  ...                           0.418        9.5\n",
            "2935     Zimbabwe  2002  ...                           0.427       10.0\n",
            "2936     Zimbabwe  2001  ...                           0.427        9.8\n",
            "2937     Zimbabwe  2000  ...                           0.434        9.8\n",
            "\n",
            "[2938 rows x 22 columns]\n"
          ]
        }
      ]
    },
    {
      "cell_type": "code",
      "metadata": {
        "colab": {
          "base_uri": "https://localhost:8080/"
        },
        "id": "7ksTKZmaD0EA",
        "outputId": "7a90b158-2aee-4965-ae31-876a94d2bcd5"
      },
      "source": [
        "x18=d['Schooling']\n",
        "y=d['Life expectancy ']\n",
        "print(x18,y)"
      ],
      "execution_count": 44,
      "outputs": [
        {
          "output_type": "stream",
          "name": "stdout",
          "text": [
            "0       10.1\n",
            "1       10.0\n",
            "2        9.9\n",
            "3        9.8\n",
            "4        9.5\n",
            "        ... \n",
            "2933     9.2\n",
            "2934     9.5\n",
            "2935    10.0\n",
            "2936     9.8\n",
            "2937     9.8\n",
            "Name: Schooling, Length: 2938, dtype: float64 0       65.0\n",
            "1       59.9\n",
            "2       59.9\n",
            "3       59.5\n",
            "4       59.2\n",
            "        ... \n",
            "2933    44.3\n",
            "2934    44.5\n",
            "2935    44.8\n",
            "2936    45.3\n",
            "2937    46.0\n",
            "Name: Life expectancy , Length: 2938, dtype: float64\n"
          ]
        }
      ]
    },
    {
      "cell_type": "code",
      "metadata": {
        "id": "vtD0QwQg5pYL"
      },
      "source": [
        ""
      ],
      "execution_count": null,
      "outputs": []
    },
    {
      "cell_type": "code",
      "metadata": {
        "colab": {
          "base_uri": "https://localhost:8080/"
        },
        "id": "u_WpFj512jA5",
        "outputId": "4770776a-450d-49b8-857e-68057941f7c0"
      },
      "source": [
        "import pandas as pd\n",
        "d=pd.read_csv('/content/Life Expectancy Data.csv')\n",
        "print(d)"
      ],
      "execution_count": 3,
      "outputs": [
        {
          "output_type": "stream",
          "name": "stdout",
          "text": [
            "          Country  Year  ... Income composition of resources  Schooling\n",
            "0     Afghanistan  2015  ...                           0.479       10.1\n",
            "1     Afghanistan  2014  ...                           0.476       10.0\n",
            "2     Afghanistan  2013  ...                           0.470        9.9\n",
            "3     Afghanistan  2012  ...                           0.463        9.8\n",
            "4     Afghanistan  2011  ...                           0.454        9.5\n",
            "...           ...   ...  ...                             ...        ...\n",
            "2933     Zimbabwe  2004  ...                           0.407        9.2\n",
            "2934     Zimbabwe  2003  ...                           0.418        9.5\n",
            "2935     Zimbabwe  2002  ...                           0.427       10.0\n",
            "2936     Zimbabwe  2001  ...                           0.427        9.8\n",
            "2937     Zimbabwe  2000  ...                           0.434        9.8\n",
            "\n",
            "[2938 rows x 22 columns]\n"
          ]
        }
      ]
    },
    {
      "cell_type": "code",
      "metadata": {
        "id": "uxIZD_rD24AC"
      },
      "source": [
        ""
      ],
      "execution_count": null,
      "outputs": []
    },
    {
      "cell_type": "markdown",
      "metadata": {
        "id": "GJBs_flRovLc"
      },
      "source": [
        "## <strong>Getting started</strong>\n",
        "\n",
        "The document that you are reading is not a static web page, but an interactive environment called a <strong>Colab notebook</strong> that lets you write and execute code.\n",
        "\n",
        "For example, here is a <strong>code cell</strong> with a short Python script that computes a value, stores it in a variable and prints the result:"
      ]
    },
    {
      "cell_type": "code",
      "metadata": {
        "colab": {
          "base_uri": "https://localhost:8080/",
          "height": 34
        },
        "id": "gJr_9dXGpJ05",
        "outputId": "9f556d03-ec67-4950-a485-cfdba9ddd14d"
      },
      "source": [
        "seconds_in_a_day = 24 * 60 * 60\n",
        "seconds_in_a_day"
      ],
      "execution_count": null,
      "outputs": [
        {
          "data": {
            "text/plain": [
              "86400"
            ]
          },
          "execution_count": 0,
          "metadata": {
            "tags": []
          },
          "output_type": "execute_result"
        }
      ]
    },
    {
      "cell_type": "markdown",
      "metadata": {
        "id": "2fhs6GZ4qFMx"
      },
      "source": [
        "To execute the code in the above cell, select it with a click and then either press the play button to the left of the code, or use the keyboard shortcut 'Command/Ctrl+Enter'. To edit the code, just click the cell and start editing.\n",
        "\n",
        "Variables that you define in one cell can later be used in other cells:"
      ]
    },
    {
      "cell_type": "code",
      "metadata": {
        "colab": {
          "base_uri": "https://localhost:8080/",
          "height": 34
        },
        "id": "-gE-Ez1qtyIA",
        "outputId": "94cb2224-0edf-457b-90b5-0ac3488d8a97"
      },
      "source": [
        "seconds_in_a_week = 7 * seconds_in_a_day\n",
        "seconds_in_a_week"
      ],
      "execution_count": null,
      "outputs": [
        {
          "data": {
            "text/plain": [
              "604800"
            ]
          },
          "execution_count": 0,
          "metadata": {
            "tags": []
          },
          "output_type": "execute_result"
        }
      ]
    },
    {
      "cell_type": "markdown",
      "metadata": {
        "id": "lSrWNr3MuFUS"
      },
      "source": [
        "Colab notebooks allow you to combine <strong>executable code</strong> and <strong>rich text</strong> in a single document, along with <strong>images</strong>, <strong>HTML</strong>, <strong>LaTeX</strong> and more. When you create your own Colab notebooks, they are stored in your Google Drive account. You can easily share your Colab notebooks with co-workers or friends, allowing them to comment on your notebooks or even edit them. To find out more, see <a href=\"/notebooks/basic_features_overview.ipynb\">Overview of Colab</a>. To create a new Colab notebook you can use the File menu above, or use the following link: <a href=\"http://colab.research.google.com#create=true\">Create a new Colab notebook</a>.\n",
        "\n",
        "Colab notebooks are Jupyter notebooks that are hosted by Colab. To find out more about the Jupyter project, see <a href=\"https://www.jupyter.org\">jupyter.org</a>."
      ]
    },
    {
      "cell_type": "markdown",
      "metadata": {
        "id": "UdRyKR44dcNI"
      },
      "source": [
        "## Data science\n",
        "\n",
        "With Colab you can harness the full power of popular Python libraries to analyse and visualise data. The code cell below uses <strong>numpy</strong> to generate some random data, and uses <strong>matplotlib</strong> to visualise it. To edit the code, just click the cell and start editing."
      ]
    },
    {
      "cell_type": "code",
      "metadata": {
        "colab": {
          "base_uri": "https://localhost:8080/",
          "height": 281
        },
        "id": "C4HZx7Gndbrh",
        "outputId": "46abc637-6abd-41b2-9bba-80a7ae992e06"
      },
      "source": [
        "import numpy as np\n",
        "from matplotlib import pyplot as plt\n",
        "\n",
        "ys = 200 + np.random.randn(100)\n",
        "x = [x for x in range(len(ys))]\n",
        "\n",
        "plt.plot(x, ys, '-')\n",
        "plt.fill_between(x, ys, 195, where=(ys > 195), facecolor='g', alpha=0.6)\n",
        "\n",
        "plt.title(\"Sample Visualization\")\n",
        "plt.show()"
      ],
      "execution_count": null,
      "outputs": [
        {
          "data": {
            "image/png": "[encoded data removed]",
            "text/plain": [
              "<Figure size 432x288 with 1 Axes>"
            ]
          },
          "metadata": {
            "tags": []
          },
          "output_type": "display_data"
        }
      ]
    },
    {
      "cell_type": "markdown",
      "metadata": {
        "id": "4_kCnsPUqS6o"
      },
      "source": [
        "You can import your own data into Colab notebooks from your Google Drive account, including from spreadsheets, as well as from GitHub and many other sources. To find out more about importing data, and how Colab can be used for data science, see the links below under <a href=\"#working-with-data\">Working with data</a>."
      ]
    },
    {
      "cell_type": "markdown",
      "metadata": {
        "id": "OwuxHmxllTwN"
      },
      "source": [
        "## Machine learning\n",
        "\n",
        "With Colab you can import an image dataset, train an image classifier on it, and evaluate the model, all in just <a href=\"https://colab.research.google.com/github/tensorflow/docs/blob/master/site/en/tutorials/quickstart/beginner.ipynb\">a few lines of code</a>. Colab notebooks execute code on Google's cloud servers, meaning you can leverage the power of Google hardware, including <a href=\"#using-accelerated-hardware\">GPUs and TPUs</a>, regardless of the power of your machine. All you need is a browser."
      ]
    },
    {
      "cell_type": "markdown",
      "metadata": {
        "id": "ufxBm1yRnruN"
      },
      "source": [
        "Colab is used extensively in the machine learning community with applications including:\n",
        "- Getting started with TensorFlow\n",
        "- Developing and training neural networks\n",
        "- Experimenting with TPUs\n",
        "- Disseminating AI research\n",
        "- Creating tutorials\n",
        "\n",
        "To see sample Colab notebooks that demonstrate machine learning applications, see the <a href=\"#machine-learning-examples\">machine learning examples</a> below."
      ]
    },
    {
      "cell_type": "markdown",
      "metadata": {
        "id": "-Rh3-Vt9Nev9"
      },
      "source": [
        "## More resources\n",
        "\n",
        "### Working with notebooks in Colab\n",
        "- [Overview of Colaboratory](/notebooks/basic_features_overview.ipynb)\n",
        "- [Guide to markdown](/notebooks/markdown_guide.ipynb)\n",
        "- [Importing libraries and installing dependencies](/notebooks/snippets/importing_libraries.ipynb)\n",
        "- [Saving and loading notebooks in GitHub](https://colab.research.google.com/github/googlecolab/colabtools/blob/master/notebooks/colab-github-demo.ipynb)\n",
        "- [Interactive forms](/notebooks/forms.ipynb)\n",
        "- [Interactive widgets](/notebooks/widgets.ipynb)\n",
        "- <img src=\"/img/new.png\" height=\"20px\" align=\"left\" hspace=\"4px\" alt=\"New\"></img>\n",
        " [TensorFlow 2 in Colab](/notebooks/tensorflow_version.ipynb)\n",
        "\n",
        "<a name=\"working-with-data\"></a>\n",
        "### Working with data\n",
        "- [Loading data: Drive, Sheets and Google Cloud Storage](/notebooks/io.ipynb) \n",
        "- [Charts: visualising data](/notebooks/charts.ipynb)\n",
        "- [Getting started with BigQuery](/notebooks/bigquery.ipynb)\n",
        "\n",
        "### Machine learning crash course\n",
        "These are a few of the notebooks from Google's online machine learning course. See the <a href=\"https://developers.google.com/machine-learning/crash-course/\">full course website</a> for more.\n",
        "- [Intro to Pandas DataFrame](https://colab.research.google.com/github/google/eng-edu/blob/main/ml/cc/exercises/pandas_dataframe_ultraquick_tutorial.ipynb)\n",
        "- [Linear regression with tf.keras using synthetic data](https://colab.research.google.com/github/google/eng-edu/blob/main/ml/cc/exercises/linear_regression_with_synthetic_data.ipynb)\n",
        "\n",
        "\n",
        "<a name=\"using-accelerated-hardware\"></a>\n",
        "### Using accelerated hardware\n",
        "- [TensorFlow with GPUs](/notebooks/gpu.ipynb)\n",
        "- [TensorFlow with TPUs](/notebooks/tpu.ipynb)"
      ]
    },
    {
      "cell_type": "markdown",
      "metadata": {
        "id": "P-H6Lw1vyNNd"
      },
      "source": [
        "<a name=\"machine-learning-examples\"></a>\n",
        "\n",
        "## Machine learning examples\n",
        "\n",
        "To see end-to-end examples of the interactive machine-learning analyses that Colaboratory makes possible, take a look at these tutorials using models from <a href=\"https://tfhub.dev\">TensorFlow Hub</a>.\n",
        "\n",
        "A few featured examples:\n",
        "\n",
        "- <a href=\"https://tensorflow.org/hub/tutorials/tf2_image_retraining\">Retraining an Image Classifier</a>: Build a Keras model on top of a pre-trained image classifier to distinguish flowers.\n",
        "- <a href=\"https://tensorflow.org/hub/tutorials/tf2_text_classification\">Text Classification</a>: Classify IMDB film reviews as either <em>positive</em> or <em>negative</em>.\n",
        "- <a href=\"https://tensorflow.org/hub/tutorials/tf2_arbitrary_image_stylization\">Style Transfer</a>: Use deep learning to transfer style between images.\n",
        "- <a href=\"https://tensorflow.org/hub/tutorials/retrieval_with_tf_hub_universal_encoder_qa\">Multilingual Universal Sentence Encoder Q&amp;A</a>: Use a machine-learning model to answer questions from the SQuAD dataset.\n",
        "- <a href=\"https://tensorflow.org/hub/tutorials/tweening_conv3d\">Video Interpolation</a>: Predict what happened in a video between the first and the last frame.\n"
      ]
    }
  ]
}